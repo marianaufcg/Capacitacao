{
  "nbformat": 4,
  "nbformat_minor": 0,
  "metadata": {
    "colab": {
      "provenance": [],
      "toc_visible": true,
      "authorship_tag": "ABX9TyOLZkOVu7bJS388ZQAiyTIH",
      "include_colab_link": true
    },
    "kernelspec": {
      "name": "python3",
      "display_name": "Python 3"
    },
    "language_info": {
      "name": "python"
    }
  },
  "cells": [
    {
      "cell_type": "markdown",
      "metadata": {
        "id": "view-in-github",
        "colab_type": "text"
      },
      "source": [
        "<a href=\"https://colab.research.google.com/github/marianaufcg/Capacitacao/blob/main/atividade5.ipynb\" target=\"_parent\"><img src=\"https://colab.research.google.com/assets/colab-badge.svg\" alt=\"Open In Colab\"/></a>"
      ]
    },
    {
      "cell_type": "code",
      "source": [
        "import numpy as np\n",
        "import matplotlib.pyplot as plt\n",
        "\n",
        "a = 1 # largura do guia\n",
        "b = 1 # altura do guia\n",
        "h = 0.02 # espaçamento\n",
        "V1 = 1 # parede inferior\n",
        "V2 = 2 # parede à direita\n",
        "V3 = 3 # parede superior\n",
        "V4 = 4 # parede à esquerda\n",
        "\n",
        "x = np.arange(0, a+(h/2), h)\n",
        "y = np.arange(0, b+(h/2), h)\n",
        "\n",
        "# Matriz dos pontos potenciais do guia ~~~~~~~~~~~~~~~~~~~~~~~~~~~~~~~~\n",
        "# ~~~~~~~~~~~~~~~~~~~~~~~~~~~~~~~~~~~~~~~~~~~~~~~~~~~~~~~~~~~~~~~~~~~~~\n",
        "\n",
        "matriz_guia = np.zeros((len(y), len(x)))\n",
        "\n",
        "matriz_guia[ :, len(x)-1] = V2\n",
        "matriz_guia[:, 0] = V4\n",
        "matriz_guia[0, :] = V3\n",
        "matriz_guia[len(y)-1, :] = V1\n",
        "\n",
        "# Matriz dos coeficientes do sistema de equações ~~~~~~~~~~~~~~~~~~~~~~\n",
        "# ~~~~~~~~~~~~~~~~~~~~~~~~~~~~~~~~~~~~~~~~~~~~~~~~~~~~~~~~~~~~~~~~~~~~~\n",
        "\n",
        "matriz_coeficientes = np.zeros(((len(y)-2)*(len(x)-2),(len(y)-2)*(len(x)-2)))\n",
        "\n",
        "n = 0\n",
        "for i in range(1, len(y)-1):\n",
        "  for j in range(1, len(x)-1):\n",
        "\n",
        "    lista_coeficientes = []\n",
        "\n",
        "    for k in range(1, len(y)-1):\n",
        "      for l in range(1, len(x)-1):\n",
        "\n",
        "        if i == k and j == l:\n",
        "          lista_coeficientes.append(4)\n",
        "\n",
        "        elif i == k and (j == (l-1) or j == (l+1)):\n",
        "          lista_coeficientes.append(-1)\n",
        "\n",
        "        elif (i == (k-1) or i == (k+1)) and j == l:\n",
        "          lista_coeficientes.append(-1)\n",
        "        else:\n",
        "          lista_coeficientes.append(0)\n",
        "\n",
        "    matriz_coeficientes[n, :] = lista_coeficientes\n",
        "    n += 1\n",
        "\n",
        "# Matriz das condições de fronteira ~~~~~~~~~~~~~~~~~~~~~~~~~~~~~~~~~~~\n",
        "# ~~~~~~~~~~~~~~~~~~~~~~~~~~~~~~~~~~~~~~~~~~~~~~~~~~~~~~~~~~~~~~~~~~~~~\n",
        "\n",
        "matriz_condicoes_de_fronteira = np.zeros(((len(y)-2)*(len(x)-2), 1))\n",
        "\n",
        "for i in range(1, len(y)-1):\n",
        "  if i == 1:\n",
        "    for j in range(1, len(x)-1):\n",
        "      matriz_condicoes_de_fronteira[j-1][0] += matriz_guia[0][j]\n",
        "  if i == len(y)-2:\n",
        "    for j in range(1, len(x)-1):\n",
        "      matriz_condicoes_de_fronteira[(len(x)-2)*(len(y)-3)+ (j-1)][0] += matriz_guia[len(y)-1][j]\n",
        "\n",
        "for j in range(1, len(x)-1):\n",
        "  if j == 1:\n",
        "    for i in range(1, len(y)-1):\n",
        "      matriz_condicoes_de_fronteira[(i-1)*(len(x)-2)][0] += matriz_guia[i][0]\n",
        "  if j == len(x)-2:\n",
        "    for i in range(1, len(y)-1):\n",
        "      matriz_condicoes_de_fronteira[(len(x)-3) + (i-1)*(len(x)-2)][0] += matriz_guia[i][len(x)-1]\n",
        "\n",
        "# Solução do sistema de equações ~~~~~~~~~~~~~~~~~~~~~~~~~~~~~~~~~~~~~~\n",
        "# ~~~~~~~~~~~~~~~~~~~~~~~~~~~~~~~~~~~~~~~~~~~~~~~~~~~~~~~~~~~~~~~~~~~~~\n",
        "\n",
        "matriz_potencial = np.dot(np.linalg.inv(matriz_coeficientes), matriz_condicoes_de_fronteira)\n",
        "\n",
        "for i in range(1, len(y)-1):\n",
        "  for j in range(1, len(x)-1):\n",
        "    matriz_guia[i][j] = matriz_potencial[(j-1) + (i-1)*(len(x)-2)][0]\n",
        "\n",
        "\n",
        "# Plotagem ~~~~~~~~~~~~~~~~~~~~~~~~~~~~~~~~~~~~~~~~~~~~~~~~~~~~~~~~~~~~\n",
        "# ~~~~~~~~~~~~~~~~~~~~~~~~~~~~~~~~~~~~~~~~~~~~~~~~~~~~~~~~~~~~~~~~~~~~~\n",
        "\n",
        "print(matriz_coeficientes)\n",
        "print()\n",
        "print(matriz_guia)\n",
        "print()\n",
        "print(matriz_condicoes_de_fronteira)\n",
        "print()\n",
        "\n",
        "plt.contourf(x, y, matriz_guia, levels= 3, cmap=\"cividis\")\n",
        "plt.gca().invert_yaxis()\n",
        "plt.colorbar(label=\"Valor de potencial\")\n",
        "plt.title(\"Potencial Elétrico no guia de onda\")\n",
        "plt.xlabel(\"x\")\n",
        "plt.ylabel(\"y\")\n",
        "plt.show()"
      ],
      "metadata": {
        "colab": {
          "base_uri": "https://localhost:8080/",
          "height": 889
        },
        "id": "9NO4ytJP9MGA",
        "outputId": "2b2f76f8-39e1-49f1-f08e-c8fdd4ea301e"
      },
      "execution_count": 6,
      "outputs": [
        {
          "output_type": "stream",
          "name": "stdout",
          "text": [
            "[[ 4. -1.  0. ...  0.  0.  0.]\n",
            " [-1.  4. -1. ...  0.  0.  0.]\n",
            " [ 0. -1.  4. ...  0.  0.  0.]\n",
            " ...\n",
            " [ 0.  0.  0. ...  4. -1.  0.]\n",
            " [ 0.  0.  0. ... -1.  4. -1.]\n",
            " [ 0.  0.  0. ...  0. -1.  4.]]\n",
            "\n",
            "[[3.         3.         3.         ... 3.         3.         3.        ]\n",
            " [4.         3.49824837 3.29884691 ... 2.69765706 2.5        2.        ]\n",
            " [4.         3.69414658 3.49299352 ... 2.5        2.30234294 2.        ]\n",
            " ...\n",
            " [4.         3.09295673 2.5        ... 1.50700648 1.70115309 2.        ]\n",
            " [4.         2.5        1.90704327 ... 1.30585342 1.50175163 2.        ]\n",
            " [1.         1.         1.         ... 1.         1.         1.        ]]\n",
            "\n",
            "[[7.]\n",
            " [3.]\n",
            " [3.]\n",
            " ...\n",
            " [1.]\n",
            " [1.]\n",
            " [3.]]\n",
            "\n"
          ]
        },
        {
          "output_type": "display_data",
          "data": {
            "text/plain": [
              "<Figure size 640x480 with 2 Axes>"
            ],
            "image/png": "[encoded data removed]"
          },
          "metadata": {}
        }
      ]
    }
  ]
}