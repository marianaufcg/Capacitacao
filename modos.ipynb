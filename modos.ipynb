{
  "nbformat": 4,
  "nbformat_minor": 0,
  "metadata": {
    "colab": {
      "provenance": [],
      "authorship_tag": "ABX9TyO7h27uPoxTChHXrNcYcUI5",
      "include_colab_link": true
    },
    "kernelspec": {
      "name": "python3",
      "display_name": "Python 3"
    },
    "language_info": {
      "name": "python"
    }
  },
  "cells": [
    {
      "cell_type": "markdown",
      "metadata": {
        "id": "view-in-github",
        "colab_type": "text"
      },
      "source": [
        "<a href=\"https://colab.research.google.com/github/marianaufcg/Capacitacao/blob/main/modos.ipynb\" target=\"_parent\"><img src=\"https://colab.research.google.com/assets/colab-badge.svg\" alt=\"Open In Colab\"/></a>"
      ]
    },
    {
      "cell_type": "code",
      "execution_count": 45,
      "metadata": {
        "colab": {
          "base_uri": "https://localhost:8080/"
        },
        "id": "K64qm5A160cE",
        "outputId": "6c4e9933-fe39-49fc-90f2-ddfbda5616d5"
      },
      "outputs": [
        {
          "output_type": "stream",
          "name": "stdout",
          "text": [
            "\n",
            "[0.88471438 3.46765057 3.38819153 3.30656256 2.32294931]\n",
            "\n",
            "[[-9.99740109e-01 -1.09932335e-02  1.60962012e-02  1.18227086e-02\n",
            "  -6.12526742e-06]\n",
            " [ 2.27913415e-02 -4.97963867e-01  7.06673470e-01  5.02120628e-01\n",
            "  -1.54432816e-04]\n",
            " [-5.19580385e-04 -7.02289250e-01  1.09076328e-02 -7.11802100e-01\n",
            "   2.88668156e-03]\n",
            " [ 1.18495360e-05 -5.07993901e-01 -7.06256661e-01  4.90164439e-01\n",
            "  -5.36893612e-02]\n",
            " [-4.68565119e-07 -2.53602355e-02 -3.78955395e-02  2.84901890e-02\n",
            "   9.98553502e-01]]\n",
            "\n"
          ]
        }
      ],
      "source": [
        "import numpy as np\n",
        "import matplotlib.pyplot as plt\n",
        "import scipy.sparse as sp\n",
        "\n",
        "# Variáveis do guia de onda ~~~~~~~~~~~~~~~~~~~~~~~~~~~~~~~~~~~~~~~~~~~~~~~\n",
        "\n",
        "n1 = 1     # índice de refração da primeira camada\n",
        "n2 = 3.5   # índice de refração da camda do meio\n",
        "n3 = 2.44  # índice de refração última camada\n",
        "\n",
        "d1 = 1     # espessura da primeira camada\n",
        "d2 = 3     # espessura da camada do meio\n",
        "d3 = 1     # espessura da última camada\n",
        "\n",
        "r = 1      # resolução\n",
        "\n",
        "h = 0.01   # espaçamento do método numérico\n",
        "\n",
        "lambda_onda = 15 * (10**(-3)) # comprimento de onda em metros\n",
        "\n",
        "k0 = (2*np.pi)/lambda_onda    # Número de onda\n",
        "\n",
        "# Matriz da Transformação Linear ~~~~~~~~~~~~~~~~~~~~~~~~~~~~~~~~~~~~~~~~~~\n",
        "\n",
        "# Matriz diagonal de índices de refração\n",
        "\n",
        "lista = round(d1/r)*[n1] + round(d2/r)*[n2] + round(d3/r)*[n3]\n",
        "\n",
        "matriz_n2 = sp.diags(\n",
        "    diagonals=[lista],\n",
        "    offsets=[0],\n",
        "    format=\"csr\")\n",
        "\n",
        "# Matriz operador Dx~^2\n",
        "\n",
        "diag_principal = len(lista)*[-2]\n",
        "diag_adj = (len(lista)-1)*[1]\n",
        "\n",
        "matriz_Dx2 = sp.diags(\n",
        "    diagonals=[diag_principal, diag_adj, diag_adj],\n",
        "    offsets=[0, -1, 1],\n",
        "    format=\"csr\")\n",
        "\n",
        "matriz_Dx22 = matriz_Dx2 / ((k0**2)*(h**2))\n",
        "\n",
        "matriz_transformacao = matriz_n2.toarray() + matriz_Dx22.toarray()\n",
        "\n",
        "# Autovalores e Autovetores ~~~~~~~~~~~~~~~~~~~~~~~~~~~~~~~~~~~~~~~~~~~~~~~~\n",
        "\n",
        "autovalores, autovetores = np.linalg.eig(matriz_transformacao)\n",
        "\n",
        "# Plotagem ~~~~~~~~~~~~~~~~~~~~~~~~~~~~~~~~~~~~~~~~~~~~~~~~~~~~~~~~~~~~~~~~\n",
        "\n",
        "print()\n",
        "print(autovalores)\n",
        "print()\n",
        "print(autovetores)\n",
        "print()\n",
        "\n",
        "\n"
      ]
    }
  ]
}