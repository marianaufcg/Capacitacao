{
  "nbformat": 4,
  "nbformat_minor": 0,
  "metadata": {
    "colab": {
      "provenance": [],
      "authorship_tag": "ABX9TyN5NPMpaVIlldeMyMck301N",
      "include_colab_link": true
    },
    "kernelspec": {
      "name": "python3",
      "display_name": "Python 3"
    },
    "language_info": {
      "name": "python"
    }
  },
  "cells": [
    {
      "cell_type": "markdown",
      "metadata": {
        "id": "view-in-github",
        "colab_type": "text"
      },
      "source": [
        "<a href=\"https://colab.research.google.com/github/marianaufcg/Capacitacao/blob/main/operadores.ipynb\" target=\"_parent\"><img src=\"https://colab.research.google.com/assets/colab-badge.svg\" alt=\"Open In Colab\"/></a>"
      ]
    },
    {
      "cell_type": "markdown",
      "source": [
        "**Soluções numéricas**\n",
        "\n",
        "Seja a EDO de segunda ordem:\n",
        "\\begin{equation} \\frac{\\mathrm{d}^2 y}{\\mathrm{d} x^2} + 5\\frac{\\mathrm{d} y}{\\mathrm{d} x} + 6y = 0\n",
        "\\end{equation}\n",
        "\n",
        "Definida para x em [0, 2] com as condições de fronteira dadas:\n",
        "\n",
        "\\\n",
        "\\begin{equation}\n",
        "y(0) = 0\n",
        "\\\\ y(2) = 0,2\n",
        "\\end{equation}\n",
        "\n",
        "\\\n",
        "Pode-se resolver o sistema pelo **Método das Diferenças Finitas** ou pelo **Método dos Operadores**. Isso porque, por aproximação numérica:\n",
        "\n",
        "\\begin{equation}\n",
        "\\ y_{i}' = \\frac{y_{i+1} - y_{i-1}}{2h}\n",
        "\\end{equation}\n",
        "\n",
        "\\\n",
        "\\begin{equation}\n",
        "\\ y_{i}'' = \\frac{y_{i+1} - 2y_{i} + y_{i-1}}{h^{2}}\n",
        "\\end{equation}\n",
        "\n",
        "\\\n",
        "E, partindo desses resultados, resolver a EDO por um dos métodos."
      ],
      "metadata": {
        "id": "x-gtVCDu8Nf7"
      }
    },
    {
      "cell_type": "markdown",
      "source": [
        "**Método das Diferenças Finitas**\n",
        "\n",
        "Substituindo as expressões numéricas na equação inicial, obtém-se a relação de recorrência abaixo:\n",
        "\n",
        "\\\n",
        "\\begin{equation}\n",
        "\\frac{y_{i+1} - 2y_{i} + y_{i-1}}{h^{2}} + 5 \\cdot \\frac{y_{i+1} - 2y_{i} + y_{i-1}}{h^{2}} + 6 \\cdot y_{i} = 0\n",
        "\\end{equation}\n",
        "\n",
        "\\\n",
        "\\begin{equation}\n",
        "\\ y_{i+1}\\left ( \\frac{1}{h^2} + \\frac{5}{2h} \\right ) +  y_{i}  \\left ( \\frac{-2}{h^2} + 6 \\right )+ y_{i-1}\\left ( \\frac{1}{h^2} - \\frac{5}{2h} \\right )= 0\n",
        "\\end{equation}\n",
        "\n",
        "\\\n",
        "Que, para um intervalo do domínio discretizado em N pontos, com as condições de fronteira, oferece o seguinte sistema:\n",
        "\n",
        "\\\n",
        "\\begin{equation}\n",
        " \\left\\{\\begin{matrix}\n",
        "\\ & y_1 & & = 0\\\\\n",
        "\\alpha \\cdot y_1  & +\\beta \\cdot y_2 &+ \\gamma \\cdot y_3 & = 0\\\\\n",
        "\\alpha \\cdot y_2  & +\\beta \\cdot y_3 &+ \\gamma \\cdot y_4 & = 0 \\\\\n",
        "\\alpha \\cdot y_3  & +\\beta \\cdot y_4 &+ \\gamma \\cdot y_5 & = 0 \\\\\n",
        " & [...]  & \\\\\n",
        "\\  &  y_n & & = 0.2\\\\\n",
        "\\end{matrix}\\right.\n",
        "\\end{equation}\n",
        "\n",
        "\\\n",
        "Onde\n",
        "\n",
        "\\\n",
        "\\begin{equation}\n",
        "\\alpha = \\frac{1}{h^2} - \\frac{5}{2h}\n",
        "\\end{equation}\n",
        "\n",
        "\\\n",
        "\\begin{equation}\n",
        "\\beta = \\frac{-2}{h^2} + 6\n",
        "\\end{equation}\n",
        "\n",
        "\\\n",
        "\\begin{equation}\n",
        "\\gamma= \\frac{1}{h^2} + \\frac{5}{2h}\n",
        "\\end{equation}\n",
        "\n",
        "\\\n",
        "O que nos leva a um sistema de matrizes. A fins ilustrativos, se N = 5:\n",
        "\n",
        "\\\n",
        "\\begin{equation}\n",
        "\\begin{bmatrix}\n",
        "1 & 0 & 0 & 0 & 0 \\\\\n",
        "\\alpha & \\beta & \\gamma & 0 & 0 \\\\\n",
        "0 & \\alpha & \\beta & \\gamma & 0 \\\\\n",
        "0 & 0 & \\alpha & \\beta & \\gamma  \\\\\n",
        "0 & 0 & 0 & 0 & 1 \\\\\n",
        "\\end{bmatrix}\n",
        "\\cdot\n",
        "\\begin{bmatrix}\n",
        "y_1 \\\\\n",
        "y_2 \\\\\n",
        "y_3 \\\\\n",
        "y_4 \\\\\n",
        "y_5 \\\\\n",
        "\\end{bmatrix}\n",
        "=\n",
        "\\begin{bmatrix}\n",
        "0 \\\\\n",
        "0 \\\\\n",
        "0 \\\\\n",
        "0 \\\\\n",
        "0.2 \\\\\n",
        "\\end{bmatrix}\n",
        "\\end{equation}"
      ],
      "metadata": {
        "id": "U86CZN-mMpm0"
      }
    },
    {
      "cell_type": "code",
      "execution_count": null,
      "metadata": {
        "id": "_Kp3Fgx17vSa"
      },
      "outputs": [],
      "source": [
        "import numpy as np\n",
        "import matplotlib.pyplot as plt\n",
        "\n",
        "n = 11                  # Numero de pontos\n",
        "intervalo = 2           # Intervalo\n",
        "h = intervalo / (n-1)   # Espaçamento\n",
        "y0 = 0                  # Ponto inicial\n",
        "yf = 0.2                # Ponto final"
      ]
    },
    {
      "cell_type": "code",
      "source": [
        "# Matriz dos coeficientes\n",
        "\n",
        "alpha = (1/np.power(h, 2)) - (5/(2*h))\n",
        "beta = (-2/np.power(h, 2)) + 6\n",
        "gamma = (1/np.power(h, 2)) + (5/(2*h))\n",
        "\n",
        "matriz_coeficientes = np.zeros((n, n))\n",
        "\n",
        "for i in range (1, n-1):\n",
        "\n",
        "  matriz_coeficientes[i][i-1] = alpha\n",
        "  matriz_coeficientes[i][i] = beta\n",
        "  matriz_coeficientes[i][i+1] = gamma\n",
        "\n",
        "matriz_coeficientes[0][0] = 1\n",
        "matriz_coeficientes[n-1][n-1] = 1\n",
        "\n",
        "# Matriz coluna\n",
        "\n",
        "matriz_coluna = np.zeros((n, 1))\n",
        "matriz_coluna[0] = y0\n",
        "matriz_coluna[n-1] = yf\n",
        "\n",
        "# Solução\n",
        "\n",
        "yc = np.linalg.solve(matriz_coeficientes, matriz_coluna)\n"
      ],
      "metadata": {
        "id": "Pk8zdLWw3sUT"
      },
      "execution_count": null,
      "outputs": []
    },
    {
      "cell_type": "markdown",
      "source": [
        "**Método dos Operadores**\n",
        "\n"
      ],
      "metadata": {
        "id": "k1SbTPLo9Evg"
      }
    },
    {
      "cell_type": "code",
      "source": [
        "# Matrizes Dx^2 e Dx\n",
        "\n",
        "matriz_Dx2 = np.zeros((n, n))\n",
        "matriz_Dx = np.zeros((n, n))\n",
        "\n",
        "for i in range (0, n):\n",
        "\n",
        "  matriz_Dx2[i][i] = -2\n",
        "\n",
        "  if (i > 0):\n",
        "    matriz_Dx2[i][i-1] = 1\n",
        "    matriz_Dx[i][i-1] = -1\n",
        "\n",
        "  if (i < n-1):\n",
        "    matriz_Dx2[i][i+1] = 1\n",
        "    matriz_Dx[i][i+1] = 1\n",
        "\n",
        "matriz_Dx2 = matriz_Dx2 / np.power(h, 2)\n",
        "matriz_Dx = matriz_Dx / (2*h)\n",
        "\n",
        "# Operador geral de y\n",
        "\n",
        "matriz_operador = (5*matriz_Dx) + (matriz_Dx2) + (6 * np.identity(n))\n",
        "\n",
        "# Condições de fronteira no Operador\n",
        "\n",
        "matriz_operador[0][:] = 0\n",
        "matriz_operador[n-1][:] = 0\n",
        "matriz_operador[0][0] = 1\n",
        "matriz_operador[n-1][n-1] = 1\n",
        "\n",
        "# Solução\n",
        "\n",
        "yo = np.linalg.solve(matriz_operador, matriz_coluna)"
      ],
      "metadata": {
        "collapsed": true,
        "id": "G8mYW6PS-l5E"
      },
      "execution_count": null,
      "outputs": []
    },
    {
      "cell_type": "code",
      "source": [
        "# Intervalo do domínio\n",
        "\n",
        "x = np.linspace(0, intervalo, n)\n",
        "\n",
        "# Plotagem\n",
        "\n",
        "plt.figure(figsize=(8, 6))\n",
        "plt.plot(x, yo, label='Método dos Operadores', color='red')\n",
        "plt.plot(x, yc, label='Método das Diferenças Finitas', color='blue')\n",
        "plt.xlabel('x')\n",
        "plt.ylabel('y')\n",
        "plt.legend()\n",
        "plt.grid(True)\n",
        "plt.show()\n",
        "print()\n",
        "print(matriz_coeficientes)\n",
        "print()\n",
        "print(matriz_operador)"
      ],
      "metadata": {
        "colab": {
          "base_uri": "https://localhost:8080/",
          "height": 959
        },
        "id": "NhdlF7bGnyXm",
        "outputId": "ee8cfa8b-c6ee-4c49-dd9b-e631ccdeff1e"
      },
      "execution_count": null,
      "outputs": [
        {
          "output_type": "display_data",
          "data": {
            "text/plain": [
              "<Figure size 800x600 with 1 Axes>"
            ],
            "image/png": "[encoded data removed]"
          },
          "metadata": {}
        },
        {
          "output_type": "stream",
          "name": "stdout",
          "text": [
            "\n",
            "[[  1.    0.    0.    0.    0.    0.    0.    0.    0.    0.    0. ]\n",
            " [ 12.5 -44.   37.5   0.    0.    0.    0.    0.    0.    0.    0. ]\n",
            " [  0.   12.5 -44.   37.5   0.    0.    0.    0.    0.    0.    0. ]\n",
            " [  0.    0.   12.5 -44.   37.5   0.    0.    0.    0.    0.    0. ]\n",
            " [  0.    0.    0.   12.5 -44.   37.5   0.    0.    0.    0.    0. ]\n",
            " [  0.    0.    0.    0.   12.5 -44.   37.5   0.    0.    0.    0. ]\n",
            " [  0.    0.    0.    0.    0.   12.5 -44.   37.5   0.    0.    0. ]\n",
            " [  0.    0.    0.    0.    0.    0.   12.5 -44.   37.5   0.    0. ]\n",
            " [  0.    0.    0.    0.    0.    0.    0.   12.5 -44.   37.5   0. ]\n",
            " [  0.    0.    0.    0.    0.    0.    0.    0.   12.5 -44.   37.5]\n",
            " [  0.    0.    0.    0.    0.    0.    0.    0.    0.    0.    1. ]]\n",
            "\n",
            "[[  1.    0.    0.    0.    0.    0.    0.    0.    0.    0.    0. ]\n",
            " [ 12.5 -44.   37.5   0.    0.    0.    0.    0.    0.    0.    0. ]\n",
            " [  0.   12.5 -44.   37.5   0.    0.    0.    0.    0.    0.    0. ]\n",
            " [  0.    0.   12.5 -44.   37.5   0.    0.    0.    0.    0.    0. ]\n",
            " [  0.    0.    0.   12.5 -44.   37.5   0.    0.    0.    0.    0. ]\n",
            " [  0.    0.    0.    0.   12.5 -44.   37.5   0.    0.    0.    0. ]\n",
            " [  0.    0.    0.    0.    0.   12.5 -44.   37.5   0.    0.    0. ]\n",
            " [  0.    0.    0.    0.    0.    0.   12.5 -44.   37.5   0.    0. ]\n",
            " [  0.    0.    0.    0.    0.    0.    0.   12.5 -44.   37.5   0. ]\n",
            " [  0.    0.    0.    0.    0.    0.    0.    0.   12.5 -44.   37.5]\n",
            " [  0.    0.    0.    0.    0.    0.    0.    0.    0.    0.    1. ]]\n"
          ]
        }
      ]
    }
  ]
}